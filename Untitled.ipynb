{
 "cells": [
  {
   "cell_type": "code",
   "execution_count": 1,
   "id": "portuguese-shooting",
   "metadata": {
    "tags": []
   },
   "outputs": [
    {
     "name": "stdout",
     "output_type": "stream",
     "text": [
      "cuda\n",
      "True\n",
      "cuda\n",
      "True\n"
     ]
    }
   ],
   "source": [
    "import torch\n",
    "import torch.nn\n",
    "import torch.autograd\n",
    "from torch.utils.data import DataLoader\n",
    "import pandas as pd\n",
    "import matplotlib.pyplot as plt\n",
    "import importlib.util\n",
    "import sys\n",
    "import os\n",
    "import numpy as np\n",
    "import math as math\n",
    "import extract_util as eu\n",
    "import net as network\n",
    "import data_util as du\n",
    "import function as lossf\n",
    "import time_util as time\n",
    "import main\n",
    "import copy\n",
    "from importlib import reload\n",
    "\n",
    "INPUT_SIZE = 4\n",
    "OUTPUT_SIZE = 1\n",
    "EPOCHS = 25000\n",
    "LEARNING_RATE = 1e-2\n",
    "SECONDS_IN_DAY = 60*60*24\n",
    "INTERVAL_OFFSET = 1\n",
    "DAY_OFFSET = 4*24\n",
    "NEXT_DAY_OFFSET = 24*4\n",
    "\n",
    "libs = ['matplotlib', 'torch', 'pandas']\n",
    "def check_installed_libs(libs):\n",
    "    for lib in libs:\n",
    "        if lib not in sys.modules:\n",
    "            \n",
    "            if (spec := importlib.util.find_spec(lib)) is not None:\n",
    "                module = importlib.util.module_from_spec(spec)\n",
    "                sys.modules[lib] = module\n",
    "                spec.loader.exec_module(module)\n",
    "                print(f\"{lib!r} has been imported\")\n",
    "            else:\n",
    "                raise BaseException(lib)\n",
    "                \n",
    "    \n",
    "try:  \n",
    "    check_installed_libs(libs)\n",
    "except BaseException as e: \n",
    "    print(f\"Package {e.args[0]!r} not found\")\n",
    "    os._exit\n",
    "\n",
    "reload(network)\n",
    "reload(lossf)\n",
    "reload(time)\n",
    "reload(du)\n",
    "\n",
    "dev = torch.device(\"cuda\") if torch.cuda.is_available() else torch.device(\"cpu\")\n",
    "print(dev)\n",
    "print(torch.cuda.is_available())\n"
   ]
  },
  {
   "cell_type": "code",
   "execution_count": 2,
   "id": "moderate-swing",
   "metadata": {
    "tags": []
   },
   "outputs": [
    {
     "name": "stdout",
     "output_type": "stream",
     "text": [
      "              DATE_TIME  PLANT_ID       SOURCE_KEY  DC_POWER  AC_POWER  \\\n",
      "0      15-05-2020 00:00   4135001  1BY6WEcLGh8j5v7       0.0       0.0   \n",
      "1      15-05-2020 00:00   4135001  1IF53ai7Xc0U56Y       0.0       0.0   \n",
      "2      15-05-2020 00:00   4135001  3PZuoBAID5Wc2HD       0.0       0.0   \n",
      "3      15-05-2020 00:00   4135001  7JYdWkrLSPkdwr4       0.0       0.0   \n",
      "4      15-05-2020 00:00   4135001  McdE0feGgRqW7Ca       0.0       0.0   \n",
      "...                 ...       ...              ...       ...       ...   \n",
      "68773  17-06-2020 23:45   4135001  uHbuxQJl8lW7ozc       0.0       0.0   \n",
      "68774  17-06-2020 23:45   4135001  wCURE6d3bPkepu2       0.0       0.0   \n",
      "68775  17-06-2020 23:45   4135001  z9Y9gH1T5YWrNuG       0.0       0.0   \n",
      "68776  17-06-2020 23:45   4135001  zBIq5rxdHJRwDNY       0.0       0.0   \n",
      "68777  17-06-2020 23:45   4135001  zVJPv84UY57bAof       0.0       0.0   \n",
      "\n",
      "       DAILY_YIELD  TOTAL_YIELD  \n",
      "0            0.000    6259559.0  \n",
      "1            0.000    6183645.0  \n",
      "2            0.000    6987759.0  \n",
      "3            0.000    7602960.0  \n",
      "4            0.000    7158964.0  \n",
      "...            ...          ...  \n",
      "68773     5967.000    7287002.0  \n",
      "68774     5147.625    7028601.0  \n",
      "68775     5819.000    7251204.0  \n",
      "68776     5817.000    6583369.0  \n",
      "68777     5910.000    7363272.0  \n",
      "\n",
      "[68778 rows x 7 columns]\n"
     ]
    }
   ],
   "source": [
    "plant1Data = pd.read_csv(\"dataset/Plant_1_Generation_Data.csv\")\n",
    "plant1Weather = pd.read_csv(\"dataset/Plant_1_Weather_Sensor_Data.csv\")\n",
    "plant2Data = pd.read_csv(\"dataset/Plant_2_Generation_Data.csv\")\n",
    "plant2Weather = pd.read_csv(\"dataset/Plant_2_Weather_Sensor_Data.csv\")\n",
    "print(plant1Data)"
   ]
  },
  {
   "cell_type": "code",
   "execution_count": 3,
   "id": "harmful-glossary",
   "metadata": {
    "tags": []
   },
   "outputs": [],
   "source": [
    "np.random.seed(19680801)\n",
    "plt.rcdefaults()\n",
    "\n",
    "daytime_dc_power = plant1Data[plant1Data.DATE_TIME == '15-05-2020 00:00']\n",
    "energy_production = plant1Data[['DATE_TIME', 'DC_POWER', 'AC_POWER']]\n",
    "#for e in energy_production.iterrows():\n",
    "#    print(e[1])"
   ]
  },
  {
   "cell_type": "code",
   "execution_count": 4,
   "id": "included-sheet",
   "metadata": {
    "tags": []
   },
   "outputs": [
    {
     "data": {
      "text/plain": [
       "'\\nproduction = {}\\nsame_hour = 0\\nfor record in zip(dc_power[\\'DATE_TIME\\'], dc_power[\\'DC_POWER\\']):\\n    hour = time.get_hour(record[0])\\n    if hour == \"00\":\\n        same_hour += 1\\n    if hour not in production.keys():\\n        production[hour] = int(record[1])\\n    else:\\n        production[hour] += int(record[1])\\nfor key in production.keys():\\n    production[key] //= same_hour\\nprint(production)\\n'"
      ]
     },
     "execution_count": 4,
     "metadata": {},
     "output_type": "execute_result"
    }
   ],
   "source": [
    "# Production by hour\n",
    "\"\"\"\n",
    "production = {}\n",
    "same_hour = 0\n",
    "for record in zip(dc_power['DATE_TIME'], dc_power['DC_POWER']):\n",
    "    hour = time.get_hour(record[0])\n",
    "    if hour == \"00\":\n",
    "        same_hour += 1\n",
    "    if hour not in production.keys():\n",
    "        production[hour] = int(record[1])\n",
    "    else:\n",
    "        production[hour] += int(record[1])\n",
    "for key in production.keys():\n",
    "    production[key] //= same_hour\n",
    "print(production)\n",
    "\"\"\""
   ]
  },
  {
   "cell_type": "code",
   "execution_count": 5,
   "id": "outdoor-niagara",
   "metadata": {
    "tags": []
   },
   "outputs": [
    {
     "data": {
      "text/plain": [
       "\"\\nfig, ax = plt.subplots()\\nax.plot(production.keys(), production.values())\\nax.set(xlabel='ora', ylabel='energie produsa (W)', title='Productia in functie de ora (DC)')\\nax.grid()\\n\""
      ]
     },
     "execution_count": 5,
     "metadata": {},
     "output_type": "execute_result"
    }
   ],
   "source": [
    "\"\"\"\n",
    "fig, ax = plt.subplots()\n",
    "ax.plot(production.keys(), production.values())\n",
    "ax.set(xlabel='ora', ylabel='energie produsa (W)', title='Productia in functie de ora (DC)')\n",
    "ax.grid()\n",
    "\"\"\""
   ]
  },
  {
   "cell_type": "code",
   "execution_count": 6,
   "id": "korean-complement",
   "metadata": {
    "scrolled": true,
    "tags": []
   },
   "outputs": [
    {
     "data": {
      "image/png": "[encoded data removed]",
      "text/plain": [
       "<Figure size 640x480 with 1 Axes>"
      ]
     },
     "metadata": {},
     "output_type": "display_data"
    },
    {
     "data": {
      "image/png": "[encoded data removed]",
      "text/plain": [
       "<Figure size 640x480 with 1 Axes>"
      ]
     },
     "metadata": {},
     "output_type": "display_data"
    }
   ],
   "source": [
    "# Solar irradiation throughout the day\n",
    "\n",
    "\n",
    "weather1 = plant1Weather[['DATE_TIME', 'AMBIENT_TEMPERATURE', 'IRRADIATION']]\n",
    "n_days = 0\n",
    "temps1 = {}\n",
    "irradiation1 = {}\n",
    "\n",
    "for e in zip(weather1['DATE_TIME'], weather1['AMBIENT_TEMPERATURE'], weather1['IRRADIATION']):\n",
    "    hour = time.get_hour(e[0])\n",
    "    if hour == \"00\":\n",
    "        n_days += 1\n",
    "    if hour not in temps1.keys():\n",
    "        temps1[hour] = e[1]\n",
    "        irradiation1[hour] = e[2]\n",
    "    else:\n",
    "        temps1[hour] += e[1]\n",
    "        irradiation1[hour] += e[2]\n",
    "        \n",
    "for key in temps1.keys():\n",
    "    temps1[key] /= n_days\n",
    "    irradiation1[key] /= n_days\n",
    "fig, ax = plt.subplots()\n",
    "ax.plot(temps1.keys(), temps1.values())\n",
    "ax.set(xlabel='ora', ylabel='Tempeatura', title='Temperatura medie in functie de ora')\n",
    "ax.grid()\n",
    "\n",
    "fig, ax = plt.subplots()\n",
    "ax.plot(irradiation1.keys(), irradiation1.values())\n",
    "ax.set(xlabel='ora', ylabel='Radiatia', title='Radiatia medie in functie de ora')\n",
    "ax.grid()\n"
   ]
  },
  {
   "cell_type": "code",
   "execution_count": 7,
   "id": "other-wound",
   "metadata": {},
   "outputs": [],
   "source": [
    "# In case data was not processed (date_time split, and merging production and weather data) \n",
    "\"\"\"\n",
    "d = eu.columns_of_interrest(plant1Data, plant1Weather)\n",
    "d = eu.add_offset_columns(d, DAY_OFFSET)\n",
    "d.to_csv('plant1Data')\n",
    "\"\"\"\n",
    "plant1Data = pd.read_csv(\"plant1Data\") # Reimport the processed data"
   ]
  },
  {
   "cell_type": "markdown",
   "id": "annoying-intermediate",
   "metadata": {},
   "source": [
    "Setul contine date de la mai multe invetoare. In acest caz, antrenarea si testarea modelelor se face separat pentru fiecare subset. "
   ]
  },
  {
   "cell_type": "code",
   "execution_count": 8,
   "id": "systematic-wallet",
   "metadata": {
    "tags": []
   },
   "outputs": [
    {
     "name": "stdout",
     "output_type": "stream",
     "text": [
      "{'adLQvlD726eNBSB', 'rGa61gmuvPhdLxV', 'VHMLBKoKgIrUVDU', 'ZoEaEvLYb1n2sOq', '3PZuoBAID5Wc2HD', 'pkci93gMrogZuBj', 'bvBOhCH3iADSZry', 'ih0vzX44oOqAx2f', 'uHbuxQJl8lW7ozc', 'iCRJl6heRkivqQ3', 'z9Y9gH1T5YWrNuG', 'zVJPv84UY57bAof', '1IF53ai7Xc0U56Y', 'wCURE6d3bPkepu2', 'sjndEbLyjtCKgGv', '1BY6WEcLGh8j5v7', 'McdE0feGgRqW7Ca', 'WRmjgnKYAwPKWDb', 'YxYtjZvoooNbGkE', 'ZnxXDlPa8U1GXgE', 'zBIq5rxdHJRwDNY', '7JYdWkrLSPkdwr4'}\n"
     ]
    }
   ],
   "source": [
    "inverters = set()\n",
    "for e in plant1Data['SOURCE_KEY']:\n",
    "    inverters.add(e)\n",
    "print(inverters)"
   ]
  },
  {
   "cell_type": "code",
   "execution_count": 9,
   "id": "emotional-architect",
   "metadata": {
    "scrolled": true,
    "tags": []
   },
   "outputs": [
    {
     "name": "stdout",
     "output_type": "stream",
     "text": [
      "      Unnamed: 0       SOURCE_KEY  DC_POWER  AC_POWER  DAILY_YIELD  \\\n",
      "0            106  1BY6WEcLGh8j5v7       0.0       0.0          0.0   \n",
      "1            127  1BY6WEcLGh8j5v7       0.0       0.0          0.0   \n",
      "2            148  1BY6WEcLGh8j5v7       0.0       0.0          0.0   \n",
      "3            170  1BY6WEcLGh8j5v7       0.0       0.0          0.0   \n",
      "4            191  1BY6WEcLGh8j5v7       0.0       0.0          0.0   \n",
      "...          ...              ...       ...       ...          ...   \n",
      "3144       68668  1BY6WEcLGh8j5v7       0.0       0.0       5521.0   \n",
      "3145       68690  1BY6WEcLGh8j5v7       0.0       0.0       5521.0   \n",
      "3146       68712  1BY6WEcLGh8j5v7       0.0       0.0       5521.0   \n",
      "3147       68734  1BY6WEcLGh8j5v7       0.0       0.0       5521.0   \n",
      "3148       68756  1BY6WEcLGh8j5v7       0.0       0.0       5521.0   \n",
      "\n",
      "      AMBIENT_TEMPERATURE  IRRADIATION        DATE   TIME  SECONDS  \\\n",
      "0               24.536092          0.0  15-05-2020  01:15   4500.0   \n",
      "1               24.638674          0.0  15-05-2020  01:30   5400.0   \n",
      "2               24.873022          0.0  15-05-2020  01:45   6300.0   \n",
      "3               24.936930          0.0  15-05-2020  02:00   7200.0   \n",
      "4               25.012248          0.0  15-05-2020  02:15   8100.0   \n",
      "...                   ...          ...         ...    ...      ...   \n",
      "3144            22.150570          0.0  17-06-2020  22:45  81900.0   \n",
      "3145            22.129816          0.0  17-06-2020  23:00  82800.0   \n",
      "3146            22.008275          0.0  17-06-2020  23:15  83700.0   \n",
      "3147            21.969495          0.0  17-06-2020  23:30  84600.0   \n",
      "3148            21.909288          0.0  17-06-2020  23:45  85500.0   \n",
      "\n",
      "      PREVIOUS_DAY_DC  PREVIOUS_DAY_AC  \n",
      "0                 0.0              0.0  \n",
      "1                 0.0              0.0  \n",
      "2                 0.0              0.0  \n",
      "3                 0.0              0.0  \n",
      "4                 0.0              0.0  \n",
      "...               ...              ...  \n",
      "3144              0.0              0.0  \n",
      "3145              0.0              0.0  \n",
      "3146              0.0              0.0  \n",
      "3147              0.0              0.0  \n",
      "3148              0.0              0.0  \n",
      "\n",
      "[3149 rows x 12 columns]\n"
     ]
    }
   ],
   "source": [
    "inverter_subsets = main.split_inverters()\n",
    "x_train, y_train, x_test, y_test = main.normalize_data(inverter_subsets)\n",
    "\n",
    "fig, ax = plt.subplots()\n",
    "ax.plot(irradiation1.keys(), irradiation1.values())\n",
    "ax.set(xlabel='ora', ylabel='Radiatia', title='Radiatia medie in functie de ora')\n",
    "ax.grid()\n",
    "\n"
   ]
  },
  {
   "cell_type": "markdown",
   "id": "freelance-reform",
   "metadata": {},
   "source": [
    "    Pentru a prezice productia de la ziua n si momentul m, vom folosi parametrii:\n",
    "    \n",
    "    * valoarea produsa in ziua n-1 la momentul m\n",
    "    * temperatura din ziua n, de la momentul m\n",
    "    * radiatia solara din ziua n, de la momentul m\n",
    "    * Ora de la momentul m (in secunde)\n",
    "\n",
    "    Deoarece parametrii iau valori in intervale diferite, acestia trebuie normalizati. S-au implementat 2 metode pentru normalizare:\n",
    "        1. Scalarea intr-un anumit interval\n",
    "        2. Se alege mijlocul intervalului valoarea medie, iar apoi se imparte cu valoarea deviatiei standard. Astfel, valoarea medie va deveni 0, iar distributia standard 1.\n",
    "        \n",
    "    In continuare, s-a ales a doua varianta."
   ]
  },
  {
   "cell_type": "code",
   "execution_count": 10,
   "id": "liquid-layer",
   "metadata": {
    "scrolled": true,
    "tags": []
   },
   "outputs": [
    {
     "name": "stdout",
     "output_type": "stream",
     "text": [
      "MAPE regresie:  5.5465727580475335\n"
     ]
    }
   ],
   "source": [
    "main.run_linear_regression(x_train, y_train, x_test, y_test)"
   ]
  },
  {
   "cell_type": "code",
   "execution_count": 11,
   "id": "sharp-overall",
   "metadata": {},
   "outputs": [
    {
     "name": "stdout",
     "output_type": "stream",
     "text": [
      "1 layers loss: 0.005143376067280769\n",
      "2 layers loss: 0.004779815673828125\n",
      "3 layers loss: 0.005109562072902918\n",
      "4 layers loss: 0.005027153063565493\n",
      "5 layers loss: 0.004920258652418852\n",
      "1 layers MAPE: 4.940183563895846 (False)\n",
      "2 layers MAPE: 4.696845337076005 (False)\n",
      "3 layers MAPE: 7.19986856549882 (False)\n",
      "4 layers MAPE: 6.799094721325377 (False)\n",
      "5 layers MAPE: 5.348704953594287 (False)\n",
      "Final loss:  0.004620601888746023\n",
      "Stacking ensemble MAPE: 2.929731609755094 \n"
     ]
    }
   ],
   "source": [
    "main.run_mlp(x_train, y_train, x_test, y_test)"
   ]
  }
 ],
 "metadata": {
  "kernelspec": {
   "display_name": "Python 3",
   "language": "python",
   "name": "python3"
  },
  "language_info": {
   "codemirror_mode": {
    "name": "ipython",
    "version": 3
   },
   "file_extension": ".py",
   "mimetype": "text/x-python",
   "name": "python",
   "nbconvert_exporter": "python",
   "pygments_lexer": "ipython3",
   "version": "3.8.5"
  }
 },
 "nbformat": 4,
 "nbformat_minor": 5
}
